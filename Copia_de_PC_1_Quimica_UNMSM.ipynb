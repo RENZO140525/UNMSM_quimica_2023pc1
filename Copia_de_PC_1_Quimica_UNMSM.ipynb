{
  "nbformat": 4,
  "nbformat_minor": 0,
  "metadata": {
    "colab": {
      "provenance": [],
      "include_colab_link": true
    },
    "kernelspec": {
      "name": "python3",
      "display_name": "Python 3"
    },
    "language_info": {
      "name": "python"
    },
    "widgets": {
      "application/vnd.jupyter.widget-state+json": {
        "a02370fe110b42a98aeccfa23d7e4b74": {
          "model_module": "faerun-notebook",
          "model_name": "SmilesDrawerModel",
          "model_module_version": "^0.1.5",
          "state": {
            "_dom_classes": [],
            "_model_module": "faerun-notebook",
            "_model_module_version": "^0.1.5",
            "_model_name": "SmilesDrawerModel",
            "_view_count": null,
            "_view_module": "faerun-notebook",
            "_view_module_version": "^0.1.5",
            "_view_name": "SmilesDrawerView",
            "background": "#1e1e1e",
            "border": true,
            "layout": "IPY_MODEL_24db80ff814641ddb180cee81c02b122",
            "options": {
              "scale": 1.25
            },
            "output": "svg",
            "theme": "dark",
            "value": [
              [
                "Rxn",
                "C(C1C(C(C(C(O1)O)O)O)O)O.O=O>>C(=O)=O.O"
              ]
            ]
          }
        },
        "24db80ff814641ddb180cee81c02b122": {
          "model_module": "@jupyter-widgets/base",
          "model_name": "LayoutModel",
          "model_module_version": "1.2.0",
          "state": {
            "_model_module": "@jupyter-widgets/base",
            "_model_module_version": "1.2.0",
            "_model_name": "LayoutModel",
            "_view_count": null,
            "_view_module": "@jupyter-widgets/base",
            "_view_module_version": "1.2.0",
            "_view_name": "LayoutView",
            "align_content": null,
            "align_items": null,
            "align_self": null,
            "border": null,
            "bottom": null,
            "display": null,
            "flex": null,
            "flex_flow": null,
            "grid_area": null,
            "grid_auto_columns": null,
            "grid_auto_flow": null,
            "grid_auto_rows": null,
            "grid_column": null,
            "grid_gap": null,
            "grid_row": null,
            "grid_template_areas": null,
            "grid_template_columns": null,
            "grid_template_rows": null,
            "height": null,
            "justify_content": null,
            "justify_items": null,
            "left": null,
            "margin": null,
            "max_height": null,
            "max_width": null,
            "min_height": null,
            "min_width": null,
            "object_fit": null,
            "object_position": null,
            "order": null,
            "overflow": null,
            "overflow_x": null,
            "overflow_y": null,
            "padding": null,
            "right": null,
            "top": null,
            "visibility": null,
            "width": null
          }
        }
      }
    }
  },
  "cells": [
    {
      "cell_type": "markdown",
      "metadata": {
        "id": "view-in-github",
        "colab_type": "text"
      },
      "source": [
        "<a href=\"https://colab.research.google.com/github/RENZO140525/UNMSM_quimica_2023pc1/blob/main/Copia_de_PC_1_Quimica_UNMSM.ipynb\" target=\"_parent\"><img src=\"https://colab.research.google.com/assets/colab-badge.svg\" alt=\"Open In Colab\"/></a>"
      ]
    },
    {
      "cell_type": "markdown",
      "source": [
        "$$\\Large \\textit{UNMSM | Química}$$\n",
        "$$\\large \\textbf{PC Nº1 | Materia y clasificación}$$\n",
        "\n",
        "_Profesor: Jesus Alvarado Huayhuaz_"
      ],
      "metadata": {
        "id": "sDJAjbaQOj4x"
      }
    },
    {
      "cell_type": "markdown",
      "source": [
        "Todas las indicaciones para la presentación de la práctica son explicadas en clase y brindadas en el material de enunciado de preguntas en formato PDF."
      ],
      "metadata": {
        "id": "_DsTzWLoP7Fy"
      }
    },
    {
      "cell_type": "markdown",
      "source": [
        "## Pregunta 1: Sobre el ABC de python (4 puntos)"
      ],
      "metadata": {
        "id": "obD7c2igOD6t"
      }
    },
    {
      "cell_type": "markdown",
      "source": [
        "Durante la semana de revisión del material \"ABC de python\", reflexiona sobre qué conceptos aprendiste con claridad y cuáles consideras los más desafiantes. A continuación resuelve los siguiente ejercicios, puedes ayudarte del material en http://bit.ly/3YKICSZ."
      ],
      "metadata": {
        "id": "emt93S7dL7QH"
      }
    },
    {
      "cell_type": "code",
      "source": [
        "# Imprime la versión de python que usas y las palabras reservadas de python para esa versión."
      ],
      "metadata": {
        "id": "6mJvqMN0LTU8"
      },
      "execution_count": null,
      "outputs": []
    },
    {
      "cell_type": "code",
      "source": [
        "!python --version"
      ],
      "metadata": {
        "id": "RZG1MQeq3jHJ",
        "colab": {
          "base_uri": "https://localhost:8080/"
        },
        "outputId": "9da3443d-40aa-4ab6-c1a0-c4347b595c05"
      },
      "execution_count": null,
      "outputs": [
        {
          "output_type": "stream",
          "name": "stdout",
          "text": [
            "Python 3.10.12\n"
          ]
        }
      ]
    },
    {
      "cell_type": "markdown",
      "source": [
        "Las palabras reservadas son:\n",
        "False,      await,      else,       import,     pass,\n",
        "None,       break,      except,     in,         raise,\n",
        "True,       class,      finally,    is,         return,\n",
        "and,        continue,   for,        lambda,     try,\n",
        "as,         def,        from,       nonlocal,   while,\n",
        "assert,     del,        global,     not,        with,\n",
        "async,      elif,       if,         or,         yield."
      ],
      "metadata": {
        "id": "dgLyym8vO14V"
      }
    },
    {
      "cell_type": "code",
      "source": [
        "# Crea una matriz de 3x3 e imprime la suma de los elementos en su diagonal (traza)."
      ],
      "metadata": {
        "id": "mOJdeXI8Pd3V"
      },
      "execution_count": null,
      "outputs": []
    },
    {
      "cell_type": "code",
      "source": [
        "import numpy as np\n",
        "print(\"Matriz R de dimensión 3x3, :\")\n",
        "R= np.array([[14,5,25],[1,9,12],[1,1,1]])\n",
        "print(R)"
      ],
      "metadata": {
        "colab": {
          "base_uri": "https://localhost:8080/"
        },
        "id": "hvg136eA0Bv4",
        "outputId": "a5db7acb-3dad-4824-fa92-1194f0f11714"
      },
      "execution_count": null,
      "outputs": [
        {
          "output_type": "stream",
          "name": "stdout",
          "text": [
            "Matriz A de dimensión 3x3, :\n",
            "[[14  5 25]\n",
            " [ 1  9 12]\n",
            " [ 1  1  1]]\n"
          ]
        }
      ]
    },
    {
      "cell_type": "code",
      "source": [
        "a11 = R[0][0]\n",
        "print(\"El elemento a11, es:\")\n",
        "print(a11)"
      ],
      "metadata": {
        "colab": {
          "base_uri": "https://localhost:8080/"
        },
        "id": "wVvATSk_8F1u",
        "outputId": "423bc1b5-ab81-4e91-e3aa-e932e6fda9b2"
      },
      "execution_count": null,
      "outputs": [
        {
          "output_type": "stream",
          "name": "stdout",
          "text": [
            "El elemento a11, es:\n",
            "14\n"
          ]
        }
      ]
    },
    {
      "cell_type": "code",
      "source": [
        "a22= R[1][1]\n",
        "print(\"El elemento a22, es:\")\n",
        "print(a22)"
      ],
      "metadata": {
        "colab": {
          "base_uri": "https://localhost:8080/"
        },
        "id": "noKHC2apA48C",
        "outputId": "27c3e763-5940-4aa2-a24a-a1dbe11f0716"
      },
      "execution_count": null,
      "outputs": [
        {
          "output_type": "stream",
          "name": "stdout",
          "text": [
            "El elemento a22, es:\n",
            "9\n"
          ]
        }
      ]
    },
    {
      "cell_type": "code",
      "source": [
        "a33=R[2][2]\n",
        "print(\"El emeneto a33, es:\")\n",
        "print(a33)"
      ],
      "metadata": {
        "colab": {
          "base_uri": "https://localhost:8080/"
        },
        "id": "kYPyAm6BE00v",
        "outputId": "e74bb04d-a51f-4b65-b382-0b58d0a9c751"
      },
      "execution_count": null,
      "outputs": [
        {
          "output_type": "stream",
          "name": "stdout",
          "text": [
            "El emeneto a33, es:\n",
            "1\n"
          ]
        }
      ]
    },
    {
      "cell_type": "code",
      "source": [
        "Traza = a11 + a22 +a33\n",
        "Traza"
      ],
      "metadata": {
        "colab": {
          "base_uri": "https://localhost:8080/"
        },
        "id": "DMgNmL6lFDra",
        "outputId": "57bd1bb1-1192-4e31-9e11-031ae743988c"
      },
      "execution_count": null,
      "outputs": [
        {
          "output_type": "execute_result",
          "data": {
            "text/plain": [
              "24"
            ]
          },
          "metadata": {},
          "execution_count": 39
        }
      ]
    },
    {
      "cell_type": "code",
      "source": [
        "# Guarda como variable la masa atómica de los elementos C, H y O, e imprime la masa molecular del etanol."
      ],
      "metadata": {
        "id": "MyhNX7JmLTSe"
      },
      "execution_count": null,
      "outputs": []
    },
    {
      "cell_type": "code",
      "source": [
        "masa_atomica_C = 12\n",
        "masa_atomica_H = 1\n",
        "masa_atomica_0 = 16"
      ],
      "metadata": {
        "id": "9qU7d8Ld5n_w"
      },
      "execution_count": null,
      "outputs": []
    },
    {
      "cell_type": "code",
      "source": [
        "masa_molecular_etanol = masa_atomica_C*2 + masa_atomica_H*8 + masa_atomica_0\n",
        "masa_molecular_etanol"
      ],
      "metadata": {
        "id": "gdHs3oq96Jpu",
        "outputId": "9663cf84-31bd-43ed-d1ee-59ceae2c8053",
        "colab": {
          "base_uri": "https://localhost:8080/"
        }
      },
      "execution_count": null,
      "outputs": [
        {
          "output_type": "execute_result",
          "data": {
            "text/plain": [
              "48"
            ]
          },
          "metadata": {},
          "execution_count": 16
        }
      ]
    },
    {
      "cell_type": "code",
      "source": [
        "# Busca la temperatura de fusión en Celsius de 5 metales y guárdalos en una lista. Imprime las temperaturas en Kelvin"
      ],
      "metadata": {
        "id": "NCOnJ0FwgLLc"
      },
      "execution_count": null,
      "outputs": []
    },
    {
      "cell_type": "code",
      "source": [
        "T_Fusion_Celsius_Litio = 180\n",
        "T_Fusion_Celsius_Sodio = 98\n",
        "T_Fusion_Celsius_Aluminio = 660\n",
        "T_Fusion_Celsius_Francio = 27\n",
        "T_Fusion_Celsius_Hierro = 1538\n",
        "\n",
        "T_Fusion_Kelvin_Litio = T_Fusion_Celsius_Litio + 273\n",
        "T_Fusion_Kelvin_Sodio = T_Fusion_Celsius_Sodio + 273\n",
        "T_Fusion_Kelvin_Aluminio = T_Fusion_Celsius_Aluminio + 273\n",
        "T_Fusion_Kelvin_Francio = T_Fusion_Celsius_Francio + 273\n",
        "T_Fusion_Kelvin_Hierro = T_Fusion_Celsius_Hierro + 273"
      ],
      "metadata": {
        "id": "jwdAmcTCSYmX"
      },
      "execution_count": null,
      "outputs": []
    },
    {
      "cell_type": "code",
      "source": [
        "T_Fusion_Kelvin_Litio"
      ],
      "metadata": {
        "colab": {
          "base_uri": "https://localhost:8080/"
        },
        "id": "DYiA-J7WY4lk",
        "outputId": "cebb534c-fea7-41f4-95a0-c7649539a6eb"
      },
      "execution_count": null,
      "outputs": [
        {
          "output_type": "execute_result",
          "data": {
            "text/plain": [
              "453"
            ]
          },
          "metadata": {},
          "execution_count": 77
        }
      ]
    },
    {
      "cell_type": "code",
      "source": [
        "T_Fusion_Kelvin_Sodio"
      ],
      "metadata": {
        "colab": {
          "base_uri": "https://localhost:8080/"
        },
        "id": "EXPSQQlqZD77",
        "outputId": "bfb72f1b-efe0-406e-fa93-080db3b5880b"
      },
      "execution_count": null,
      "outputs": [
        {
          "output_type": "execute_result",
          "data": {
            "text/plain": [
              "371"
            ]
          },
          "metadata": {},
          "execution_count": 78
        }
      ]
    },
    {
      "cell_type": "code",
      "source": [
        "T_Fusion_Kelvin_Aluminio"
      ],
      "metadata": {
        "colab": {
          "base_uri": "https://localhost:8080/"
        },
        "id": "UTaMPRFzZDpO",
        "outputId": "95653896-bec8-469c-8f1f-76f722b73892"
      },
      "execution_count": null,
      "outputs": [
        {
          "output_type": "execute_result",
          "data": {
            "text/plain": [
              "933"
            ]
          },
          "metadata": {},
          "execution_count": 79
        }
      ]
    },
    {
      "cell_type": "code",
      "source": [
        "T_Fusion_Kelvin_Francio"
      ],
      "metadata": {
        "colab": {
          "base_uri": "https://localhost:8080/"
        },
        "id": "037wohhWZJj6",
        "outputId": "2cb15704-174d-4b11-f877-fad39a7c61b9"
      },
      "execution_count": null,
      "outputs": [
        {
          "output_type": "execute_result",
          "data": {
            "text/plain": [
              "300"
            ]
          },
          "metadata": {},
          "execution_count": 80
        }
      ]
    },
    {
      "cell_type": "code",
      "source": [
        "T_Fusion_Kelvin_Hierro"
      ],
      "metadata": {
        "colab": {
          "base_uri": "https://localhost:8080/"
        },
        "id": "2WCI-fwkZDWJ",
        "outputId": "3e4f6886-ab4a-4bcd-a23d-7630410c7f4d"
      },
      "execution_count": null,
      "outputs": [
        {
          "output_type": "execute_result",
          "data": {
            "text/plain": [
              "1811"
            ]
          },
          "metadata": {},
          "execution_count": 81
        }
      ]
    },
    {
      "cell_type": "markdown",
      "source": [
        "## Pregunta 2: Operaciones (4 puntos)"
      ],
      "metadata": {
        "id": "epzOadagLfPi"
      }
    },
    {
      "cell_type": "markdown",
      "source": [
        "Escribe un programa que lea repetidamente elementos químicos en español hasta que el usuario introduzca “fin”. Una vez se haya introducido “fin”, muestra por pantalla (o sea imprime) el total de elementos ingresados. Si el usuario introduce cualquier otra cosa que no sea un elemento químico, detecta su fallo usando try y except, muestra un mensaje de error y pasa al siguiente elemento."
      ],
      "metadata": {
        "id": "jeiWoU1yUMzi"
      }
    },
    {
      "cell_type": "markdown",
      "source": [
        "# Pregunta 3: Conservación de la masa (4 puntos)"
      ],
      "metadata": {
        "id": "8gxSHpD3LZsh"
      }
    },
    {
      "cell_type": "markdown",
      "source": [
        "### Código necesario para generar la imagen"
      ],
      "metadata": {
        "id": "mMV9c3hDl7KL"
      }
    },
    {
      "cell_type": "code",
      "source": [
        "!pip install faerun-notebook==0.1.5b0\n",
        "\n",
        "import ipywidgets as widgets\n",
        "from faerun_notebook import SmilesDrawer\n",
        "from google.colab import output\n",
        "output.enable_custom_widget_manager()"
      ],
      "metadata": {
        "id": "JgF8Ohtbky65"
      },
      "execution_count": null,
      "outputs": []
    },
    {
      "cell_type": "markdown",
      "source": [
        "### Reacción química"
      ],
      "metadata": {
        "id": "5sLC10D_oSrV"
      }
    },
    {
      "cell_type": "code",
      "source": [
        "from google.colab import drive\n",
        "drive.mount('/content/drive')"
      ],
      "metadata": {
        "id": "sykkfHGtvKul"
      },
      "execution_count": null,
      "outputs": []
    },
    {
      "cell_type": "markdown",
      "source": [
        "Demuestra cómo se cumple la conservación de la masa en la siguiente reacción química. Sugerencia: hacer un balance estequiométrico y luego emplear la masa molecular de reactivos y productos."
      ],
      "metadata": {
        "id": "OVRhAzaVmD86"
      }
    },
    {
      "cell_type": "code",
      "source": [
        "SmilesDrawer(value=[(\"Rxn\", \"C(C1C(C(C(C(O1)O)O)O)O)O.O=O>>C(=O)=O.O\")], theme='dark', background=\"#1e1e1e\", options={'scale': 1.25})"
      ],
      "metadata": {
        "colab": {
          "base_uri": "https://localhost:8080/",
          "height": 289,
          "referenced_widgets": [
            "a02370fe110b42a98aeccfa23d7e4b74",
            "24db80ff814641ddb180cee81c02b122"
          ]
        },
        "id": "CC0mAXWmnYyN",
        "outputId": "ce19e27b-9298-4b49-e295-78ac6e63e834"
      },
      "execution_count": null,
      "outputs": [
        {
          "output_type": "display_data",
          "data": {
            "text/plain": [
              "SmilesDrawer(background='#1e1e1e', options={'scale': 1.25}, theme='dark', value=[('Rxn', 'C(C1C(C(C(C(O1)O)O)O…"
            ],
            "application/vnd.jupyter.widget-view+json": {
              "version_major": 2,
              "version_minor": 0,
              "model_id": "a02370fe110b42a98aeccfa23d7e4b74"
            }
          },
          "metadata": {
            "application/vnd.jupyter.widget-view+json": {
              "colab": {
                "custom_widget_manager": {
                  "url": "https://ssl.gstatic.com/colaboratory-static/widgets/colab-cdn-widget-manager/b3e629b1971e1542/manager.min.js"
                }
              }
            }
          }
        }
      ]
    },
    {
      "cell_type": "markdown",
      "source": [],
      "metadata": {
        "id": "xHY8Bm4TjOkH"
      }
    },
    {
      "cell_type": "markdown",
      "source": [
        "## Pregunta 4: Notación científica (4 puntos)"
      ],
      "metadata": {
        "id": "Rh-nAUiKhJNB"
      }
    },
    {
      "cell_type": "markdown",
      "source": [
        "Imprime las siguientes operaciones según la notación científica:\n",
        "\n",
        "(1) $1.321 \\times 10^{-4} + 8.5 \\times 10^{-2}$\n",
        "\n",
        "(2) $1.71 \\times 10^{3} - 2.01 \\times 10^{2}\\$\n",
        "\n",
        "(3) $(7.4 \\times 10^5)(7.2 \\times 10^4)$\n",
        "\n",
        "(4) $(7.4 \\times 10^5)/(7.2 \\times 10^4)$"
      ],
      "metadata": {
        "id": "NIkI45Xdqqnt"
      }
    },
    {
      "cell_type": "markdown",
      "source": [
        "Rpta.1: 0,0851321 =8.51321*(10^-*2*)"
      ],
      "metadata": {
        "id": "B6eU8vh3frMj"
      }
    },
    {
      "cell_type": "markdown",
      "source": [
        "Rpta.2: 1509 = 1.509*(10^3)"
      ],
      "metadata": {
        "id": "n-gpcYXjgNMR"
      }
    },
    {
      "cell_type": "markdown",
      "source": [
        "Rpta.3: `53280000000=53.28*(10^9)"
      ],
      "metadata": {
        "id": "R4gnvsQTfqu0"
      }
    },
    {
      "cell_type": "markdown",
      "source": [
        "Rpta.4: 10.2777...=1.028(redondeo)"
      ],
      "metadata": {
        "id": "oxcy7Oj_fqmT"
      }
    },
    {
      "cell_type": "markdown",
      "source": [
        "## Pregunta 5: Método científico (4 puntos)"
      ],
      "metadata": {
        "id": "CuzCcXJghR14"
      }
    },
    {
      "cell_type": "markdown",
      "source": [
        "Artículo: https://bit.ly/3surZ1W\n",
        "Leer el siguiente artículo y explica cómo es aplicado el método científico. Emplea como máximo 300 palabras."
      ],
      "metadata": {
        "id": "WngRSR-Rhmx1"
      }
    },
    {
      "cell_type": "markdown",
      "source": [
        "La conclusion, hecha por un detective científico, frustra las esperanzas de que LK-99, resulte ser el primer superconductor que funciona a temperatura y presión ambiente.\n",
        "En cambio, los estudios han demostrado que las impurezas en el material (en particular, el sulfuro de cobre) fueron las responsables de fuertes caídas en su resistividad eléctrica y una manifestación de levitación parcial sobre un imán, propiedades similares a las exhibidas por los superconductores ocasionadas por ferromagnetismo.\n",
        "\n",
        "Esto podría indicar que, aun siendo LK-99 un superconductor, el proceso de sintetización de este compuesto podría tener fallos o podría deberse a alguna otra circunstancia que contaminara la muestra generada en Pekín.\n",
        "Se trata de una propiedad de algunos materiales (llamados ferromagnéticos) que surge como reacción al ser expuestos a campos magnéticos.\n",
        "Cuando la interacción con estos campos hace que los momentos magnéticos de la muestra se ordenen (es decir, que se produzca un ordenamiento magnético) estamos hablando de un material ferromagnético.\n",
        "Una de las características de este compuesto es que, al parecer, era fácil de crear, lo que hace el experimento fácil de replicar.\n",
        "Si bien es cierto que los intentos de replicar este experimento han sido numerosos el escaso éxito logrado más allá de algunos estudios teóricos indica que no podemos por ahora dar por bueno LK-99 como superconductor a temperatura ambiente (apenas incluso como un buen conductor); pero tampoco puede descartarse la opción de que, simplemente, el material no sea tan fácil de sintetizar como se pensaba.\n",
        "\n",
        "\n"
      ],
      "metadata": {
        "id": "D6G7c0wiiYSS"
      }
    }
  ]
}